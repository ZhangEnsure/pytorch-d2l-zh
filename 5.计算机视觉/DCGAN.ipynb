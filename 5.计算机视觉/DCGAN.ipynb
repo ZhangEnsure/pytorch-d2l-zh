{
 "cells": [
  {
   "cell_type": "code",
   "execution_count": null,
   "metadata": {},
   "outputs": [],
   "source": [
    "import torch\n",
    "import torch.nn as nn\n",
    "import torch.nn.functional as F\n",
    "import torch.optim as optim\n",
    "import numpy as np\n",
    "import matplotlib.pyplot as plt\n",
    "import torchvision\n",
    "from torchvision import transforms\n"
   ]
  },
  {
   "cell_type": "markdown",
   "metadata": {},
   "source": [
    "加载数据"
   ]
  },
  {
   "cell_type": "code",
   "execution_count": null,
   "metadata": {},
   "outputs": [],
   "source": [
    "\n",
    "transform = transforms.Compose([transforms.ToTensor(),\n",
    "                                transforms.Normalize(mean=0.5, std=0.5)])\n",
    " \n",
    "train_ds = torchvision.datasets.MNIST('../data/',\n",
    "                                      train=True,\n",
    "                                      transform=transform,\n",
    "                                      download= True)\n",
    "dataloader = torch.utils.data.DataLoader(train_ds, batch_size=64, shuffle=True)"
   ]
  },
  {
   "cell_type": "markdown",
   "metadata": {},
   "source": [
    "定义生成器"
   ]
  },
  {
   "cell_type": "code",
   "execution_count": null,
   "metadata": {},
   "outputs": [],
   "source": [
    "\n",
    "class Generator(nn.Module):\n",
    "    def __init__(self):\n",
    "        super(Generator,self).__init__()\n",
    "        self.linear1 = nn.Linear(100, 256*7*7) \n",
    "        self.bn1 = nn.BatchNorm1d(256*7*7)\n",
    "        self.deconv1 = nn.ConvTranspose2d(256, 128,\n",
    "                                          kernel_size=(3,3),\n",
    "                                          stride=1,  \n",
    "                                          padding=1  \n",
    "                                          )   # 得到128*7*7的图像\n",
    "        self.bn2 = nn.BatchNorm2d(128)\n",
    "        self.deconv2 = nn.ConvTranspose2d(128, 64,\n",
    "                                          kernel_size=(4,4),\n",
    "                                          stride=2,\n",
    "                                          padding=1  # 64*14*14\n",
    "                                          )\n",
    "        self.bn3 = nn.BatchNorm2d(64)\n",
    "        self.deconv3 = nn.ConvTranspose2d(64, 1,\n",
    "                                          kernel_size=(4, 4),\n",
    "                                          stride=2,\n",
    "                                          padding=1  # 1*28*28\n",
    "                                          )\n",
    "    def forward(self, x):\n",
    "        x = F.relu(self.linear1(x))\n",
    "        x = self.bn1(x)\n",
    "        x = x.view(-1, 256, 7, 7)\n",
    "        x = F.relu(self.deconv1(x))\n",
    "        x = self.bn2(x)\n",
    "        x = F.relu(self.deconv2(x))\n",
    "        x = self.bn3(x)\n",
    "        x = torch.tanh(self.deconv3(x))\n",
    "        return x"
   ]
  },
  {
   "cell_type": "markdown",
   "metadata": {},
   "source": [
    "定义判别器"
   ]
  },
  {
   "cell_type": "code",
   "execution_count": null,
   "metadata": {},
   "outputs": [],
   "source": [
    "# input:1，28，28\n",
    "class Discriminator(nn.Module):\n",
    "    def __init__(self):\n",
    "        super(Discriminator, self).__init__()\n",
    "        self.conv1 = nn.Conv2d(1, 64, kernel_size=3, stride=2) # 第一层不适用bn  64，13，13\n",
    "        self.conv2 = nn.Conv2d(64, 128, kernel_size=3, stride=2) #128，6，6\n",
    "        self.bn = nn.BatchNorm2d(128)\n",
    "        self.fc = nn.Linear(128*6*6, 1) # 输出一个概率值\n",
    "    def forward(self, x):\n",
    "        x = F.dropout2d(F.leaky_relu(self.conv1(x)))\n",
    "        x = F.dropout2d(F.leaky_relu(self.conv2(x)))  # (batch, 128,6,6)\n",
    "        x = self.bn(x)\n",
    "        x = x.view(-1, 128*6*6)   # (batch, 128,6,6)--->  (batch, 128*6*6)\n",
    "        x = torch.sigmoid(self.fc(x))\n",
    "        return x"
   ]
  },
  {
   "cell_type": "code",
   "execution_count": null,
   "metadata": {},
   "outputs": [],
   "source": [
    "# 初始化模型\n",
    "device = 'cuda' if torch.cuda.is_available() else 'cpu'\n",
    "gen = Generator().to(device)\n",
    "dis = Discriminator().to(device)\n",
    " \n",
    "# 损失计算函数\n",
    "loss_function = torch.nn.BCELoss()\n",
    " \n",
    "# 定义优化器\n",
    "d_optim = torch.optim.Adam(dis.parameters(), lr=1e-5)\n",
    "g_optim = torch.optim.Adam(gen.parameters(), lr=1e-4)"
   ]
  },
  {
   "cell_type": "code",
   "execution_count": null,
   "metadata": {},
   "outputs": [],
   "source": [
    "def generate_and_save_images(model, epoch, test_input):\n",
    "    predictions = np.squeeze(model(test_input).cpu().numpy()) \n",
    "    fig = plt.figure(figsize=(4, 4))\n",
    "    for i in range(predictions.shape[0]):\n",
    "        plt.subplot(4, 4, i + 1)\n",
    "        plt.imshow((predictions[i] + 1) / 2, cmap='gray')  \n",
    "        plt.axis(\"off\")\n",
    "    \n",
    "    plt.show()\n",
    " \n",
    "test_input = torch.randn(16, 100, device=device)"
   ]
  },
  {
   "cell_type": "code",
   "execution_count": null,
   "metadata": {},
   "outputs": [],
   "source": [
    "# 开始训练\n",
    "D_loss = []\n",
    "G_loss = []\n",
    "# 训练循环\n",
    "for epoch in range(30):\n",
    "    d_epoch_loss = 0\n",
    "    g_epoch_loss = 0\n",
    "    count = len(dataloader)\n",
    "    # 对全部的数据集做一次迭代\n",
    "    for step, (img, _) in enumerate(dataloader):\n",
    "        img = img.to(device)  \n",
    "        size = img.shape[0]    # 返回img的第一维的大小\n",
    "        random_noise = torch.randn(size, 100, device=device)  \n",
    " \n",
    "        d_optim.zero_grad()  # 将上述步骤的梯度归零\n",
    "        real_output = dis(img)  # 对判别器输入真实的图片，real_output是对真实图片的预测结果\n",
    "        d_real_loss = loss_function(real_output,\n",
    "                                    torch.ones_like(real_output, device=device)\n",
    "                                    )\n",
    "        d_real_loss.backward() #求解梯度\n",
    " \n",
    "        # 得到判别器在生成图像上的损失\n",
    "        gen_img = gen(random_noise)\n",
    "        fake_output = dis(gen_img.detach())  \n",
    "        d_fake_loss = loss_function(fake_output,\n",
    "                                    torch.zeros_like(fake_output, device=device))\n",
    "        d_fake_loss.backward()\n",
    " \n",
    "        d_loss = d_real_loss + d_fake_loss\n",
    "        d_optim.step()  # 优化\n",
    " \n",
    "        # 得到生成器的损失\n",
    "        g_optim.zero_grad()\n",
    "        fake_output = dis(gen_img)\n",
    "        g_loss = loss_function(fake_output,\n",
    "                               torch.ones_like(fake_output, device=device))\n",
    "        g_loss.backward()\n",
    "        g_optim.step()\n",
    " \n",
    "        with torch.no_grad():\n",
    "            d_epoch_loss += d_loss.item()  \n",
    "            g_epoch_loss += g_loss.item()\n",
    "    with torch.no_grad():\n",
    "        d_epoch_loss /= count\n",
    "        g_epoch_loss /= count\n",
    "        D_loss.append(d_epoch_loss)\n",
    "        G_loss.append(g_epoch_loss)\n",
    "        generate_and_save_images(gen, epoch, test_input)\n",
    "    print('Epoch:', epoch)\n",
    "plt.plot(D_loss, label='D_loss')\n",
    "plt.plot(G_loss, label='G_loss')\n",
    "plt.legend()\n",
    "plt.show()"
   ]
  }
 ],
 "metadata": {
  "kernelspec": {
   "display_name": "Python 3.10.6 ('ner')",
   "language": "python",
   "name": "python3"
  },
  "language_info": {
   "codemirror_mode": {
    "name": "ipython",
    "version": 3
   },
   "file_extension": ".py",
   "mimetype": "text/x-python",
   "name": "python",
   "nbconvert_exporter": "python",
   "pygments_lexer": "ipython3",
   "version": "3.10.6"
  },
  "orig_nbformat": 4,
  "vscode": {
   "interpreter": {
    "hash": "2a2fd8194ea2e9e8b601dfd8dd0592a5a6b9df6288ca31eab20ce50c9c69582b"
   }
  }
 },
 "nbformat": 4,
 "nbformat_minor": 2
}
