{
  "cells": [
    {
      "cell_type": "markdown",
      "metadata": {
        "id": "view-in-github",
        "colab_type": "text"
      },
      "source": [
        "<a href=\"https://colab.research.google.com/github/ZhangEnsure/pytorch-d2l-zh/blob/master/4.%E5%BE%AA%E7%8E%AF%E7%A5%9E%E7%BB%8F%E7%BD%91%E7%BB%9C/text_preprocessing.ipynb\" target=\"_parent\"><img src=\"https://colab.research.google.com/assets/colab-badge.svg\" alt=\"Open In Colab\"/></a>"
      ]
    },
    {
      "cell_type": "markdown",
      "metadata": {
        "id": "o_zLpHWEl5DB"
      },
      "source": [
        "# 文本预处理\n",
        "\n"
      ]
    },
    {
      "cell_type": "code",
      "source": [
        "%pip install d2l\n",
        "%pip install matplotlib_inline\n",
        "%pip install matplotlib==3.0"
      ],
      "metadata": {
        "id": "aBTR2-I7mHoG"
      },
      "execution_count": null,
      "outputs": []
    },
    {
      "cell_type": "code",
      "execution_count": 2,
      "metadata": {
        "origin_pos": 2,
        "tab": [
          "pytorch"
        ],
        "id": "rKvHuj_9l5DD"
      },
      "outputs": [],
      "source": [
        "import collections\n",
        "import re\n",
        "from d2l import torch as d2l"
      ]
    },
    {
      "cell_type": "markdown",
      "metadata": {
        "id": "hrlySpH6l5DE"
      },
      "source": [
        "将数据集读取到由多条文本行组成的列表中"
      ]
    },
    {
      "cell_type": "code",
      "execution_count": 3,
      "metadata": {
        "origin_pos": 5,
        "tab": [
          "pytorch"
        ],
        "colab": {
          "base_uri": "https://localhost:8080/"
        },
        "id": "Nskn4U0kl5DE",
        "outputId": "32800a34-b90e-4631-aeb5-314c835834f5"
      },
      "outputs": [
        {
          "output_type": "stream",
          "name": "stdout",
          "text": [
            "Downloading ../data/timemachine.txt from http://d2l-data.s3-accelerate.amazonaws.com/timemachine.txt...\n",
            "the time machine by h g wells\n",
            "twinkled and his usually pale face was flushed and animated the\n"
          ]
        }
      ],
      "source": [
        "d2l.DATA_HUB['time_machine'] = (d2l.DATA_URL + 'timemachine.txt','090b5e7e70c295757f55df93cb0a180b9691891a')\n",
        "\n",
        "def read_time_machine():  \n",
        "    \"\"\"将时间机器数据集加载到文本行的列表中\"\"\"\n",
        "    with open(d2l.download('time_machine'), 'r') as f:\n",
        "        lines = f.readlines()\n",
        "    return [re.sub('[^A-Za-z]+', ' ', line).strip().lower() for line in lines]\n",
        "\n",
        "lines = read_time_machine()\n",
        "print(lines[0])\n",
        "print(lines[10])"
      ]
    },
    {
      "cell_type": "markdown",
      "metadata": {
        "id": "MBzU0MAal5DF"
      },
      "source": [
        "每个文本序列又被拆分成一个词元列表"
      ]
    },
    {
      "cell_type": "code",
      "execution_count": 10,
      "metadata": {
        "origin_pos": 7,
        "tab": [
          "pytorch"
        ],
        "colab": {
          "base_uri": "https://localhost:8080/"
        },
        "id": "G6_onM6ul5DG",
        "outputId": "8824439f-b6a0-4fef-f15d-1f2efdf4cab1"
      },
      "outputs": [
        {
          "output_type": "stream",
          "name": "stdout",
          "text": [
            "['t', 'h', 'e', ' ', 't', 'i', 'm', 'e', ' ', 'm', 'a', 'c', 'h', 'i', 'n', 'e', ' ', 'b', 'y', ' ', 'h', ' ', 'g', ' ', 'w', 'e', 'l', 'l', 's']\n",
            "[]\n",
            "[]\n",
            "[]\n",
            "[]\n",
            "['i']\n",
            "[]\n",
            "[]\n",
            "['t', 'h', 'e', ' ', 't', 'i', 'm', 'e', ' ', 't', 'r', 'a', 'v', 'e', 'l', 'l', 'e', 'r', ' ', 'f', 'o', 'r', ' ', 's', 'o', ' ', 'i', 't', ' ', 'w', 'i', 'l', 'l', ' ', 'b', 'e', ' ', 'c', 'o', 'n', 'v', 'e', 'n', 'i', 'e', 'n', 't', ' ', 't', 'o', ' ', 's', 'p', 'e', 'a', 'k', ' ', 'o', 'f', ' ', 'h', 'i', 'm']\n",
            "['w', 'a', 's', ' ', 'e', 'x', 'p', 'o', 'u', 'n', 'd', 'i', 'n', 'g', ' ', 'a', ' ', 'r', 'e', 'c', 'o', 'n', 'd', 'i', 't', 'e', ' ', 'm', 'a', 't', 't', 'e', 'r', ' ', 't', 'o', ' ', 'u', 's', ' ', 'h', 'i', 's', ' ', 'g', 'r', 'e', 'y', ' ', 'e', 'y', 'e', 's', ' ', 's', 'h', 'o', 'n', 'e', ' ', 'a', 'n', 'd']\n",
            "['t', 'w', 'i', 'n', 'k', 'l', 'e', 'd', ' ', 'a', 'n', 'd', ' ', 'h', 'i', 's', ' ', 'u', 's', 'u', 'a', 'l', 'l', 'y', ' ', 'p', 'a', 'l', 'e', ' ', 'f', 'a', 'c', 'e', ' ', 'w', 'a', 's', ' ', 'f', 'l', 'u', 's', 'h', 'e', 'd', ' ', 'a', 'n', 'd', ' ', 'a', 'n', 'i', 'm', 'a', 't', 'e', 'd', ' ', 't', 'h', 'e']\n"
          ]
        }
      ],
      "source": [
        "def tokenize(lines, token='word'):  \n",
        "  \"\"\"将文本行拆分为单词或字符词元\"\"\"\n",
        "  if token == 'word':\n",
        "    # line.split()返回一个列表，最外层还有一个列表\n",
        "    # 所以这是一个二维的列表\n",
        "    return [line.split() for line in lines]\n",
        "  elif token == 'char':\n",
        "    return [list(line) for line in lines]\n",
        "  else:\n",
        "    print('错误：未知词元类型：' + token)\n",
        "\n",
        "# print(lines[0])\n",
        "# the time machine by h g wells\n",
        "# print(list(lines[0]))\n",
        "# ['t', 'h', 'e', ' ', 't', 'i', 'm', 'e', ' ', 'm', 'a', 'c', 'h', 'i', 'n', 'e', ' ', 'b', 'y', ' ', 'h', ' ', 'g', ' ', 'w', 'e', 'l', 'l', 's']\n",
        "\n",
        "tokens = tokenize(lines, token='char')\n",
        "for i in range(11):\n",
        "  print(tokens[i])"
      ]
    },
    {
      "cell_type": "markdown",
      "metadata": {
        "id": "9zoUzMD1l5DG"
      },
      "source": [
        "构建一个字典，通常也叫做*词表*（vocabulary），\n",
        "用来将字符串类型的词元映射到从$0$开始的数字索引中"
      ]
    },
    {
      "cell_type": "code",
      "execution_count": 5,
      "metadata": {
        "origin_pos": 9,
        "tab": [
          "pytorch"
        ],
        "id": "d4IcUDPel5DH"
      },
      "outputs": [],
      "source": [
        "class Vocab:  \n",
        "  \"\"\"文本词表\"\"\"\n",
        "  def __init__(self, tokens=None, min_freq=0, reserved_tokens=None):\n",
        "    if tokens is None:\n",
        "      tokens = []\n",
        "    if reserved_tokens is None:\n",
        "      reserved_tokens = []\n",
        "    # 返回一个Counter对象，数据是字典。每一个词是键，出现的次数是值\n",
        "    counter = count_corpus(tokens)\n",
        "    # counter.items() is a dict_items\n",
        "    # 我们将时光机器所有的词元统计出现的次数，并进行排序，按从大到小的顺序排列\n",
        "    self._token_freqs = sorted(counter.items(), key=lambda x: x[1], reverse=True)\n",
        "    self.idx_to_token = ['<unk>'] + reserved_tokens\n",
        "    # 这是一个字典类型的数据，根据token键得到value（下标）\n",
        "    # 因为最后代码处理的不是字符，而是顺序递增的数字\n",
        "    self.token_to_idx = {token: idx for idx, token in enumerate(self.idx_to_token)}\n",
        "    for token, freq in self._token_freqs:\n",
        "      if freq < min_freq:\n",
        "        break\n",
        "      if token not in self.token_to_idx:\n",
        "        self.idx_to_token.append(token)\n",
        "        self.token_to_idx[token] = len(self.idx_to_token) - 1\n",
        "\n",
        "  def __len__(self):\n",
        "    return len(self.idx_to_token)\n",
        "\n",
        "  # 根据tokens返回idx\n",
        "  def __getitem__(self, tokens):\n",
        "    # tokens可能不只是一个字符，而是一个列表或者元组\n",
        "    # 这里tokens是一个字符\n",
        "    if not isinstance(tokens, (list, tuple)):\n",
        "      return self.token_to_idx.get(tokens, self.unk)\n",
        "    # 这里递归调用自己\n",
        "    return [self.__getitem__(token) for token in tokens]\n",
        "\n",
        "  def to_tokens(self, indices):\n",
        "    if not isinstance(indices, (list, tuple)):\n",
        "      return self.idx_to_token[indices]\n",
        "    return [self.idx_to_token[index] for index in indices]\n",
        "\n",
        "  @property\n",
        "  def unk(self):\n",
        "    return 0\n",
        "\n",
        "  @property\n",
        "  def token_freqs(self):\n",
        "    return self._token_freqs\n",
        "\n",
        "# 返回Counter({'the': 4, 'time': 1, 'machine': 1, 'by': 1, 'h': 1, 'g': 1, 'wells': 1})的数据\n",
        "def count_corpus(tokens):  \n",
        "  \"\"\"统计词元的频率\"\"\"\n",
        "  if len(tokens) == 0 or isinstance(tokens[0], list):\n",
        "    tokens = [token for line in tokens for token in line]\n",
        "  return collections.Counter(tokens)"
      ]
    },
    {
      "cell_type": "code",
      "source": [
        "# 简单测试一次这个count_corpus()函数\n",
        "my_tokens = tokens[0]\n",
        "# my_tokens.append('the')\n",
        "# print(my_tokens)\n",
        "# print(tokens[:10])\n",
        "res = count_corpus(tokens[:10])\n",
        "print(type(res.items()))\n",
        "token_frequence = sorted(res.items(), key=lambda x: x[1], reverse=True)\n",
        "print(token_frequence)\n",
        "# print(['<unk>']+[])"
      ],
      "metadata": {
        "colab": {
          "base_uri": "https://localhost:8080/"
        },
        "id": "jQg3ViM-pRxe",
        "outputId": "d30740a0-25e4-44cb-e854-d1d806e07f2e"
      },
      "execution_count": 6,
      "outputs": [
        {
          "output_type": "stream",
          "name": "stdout",
          "text": [
            "<class 'dict_items'>\n",
            "[('the', 2), ('time', 2), ('to', 2), ('machine', 1), ('by', 1), ('h', 1), ('g', 1), ('wells', 1), ('i', 1), ('traveller', 1), ('for', 1), ('so', 1), ('it', 1), ('will', 1), ('be', 1), ('convenient', 1), ('speak', 1), ('of', 1), ('him', 1), ('was', 1), ('expounding', 1), ('a', 1), ('recondite', 1), ('matter', 1), ('us', 1), ('his', 1), ('grey', 1), ('eyes', 1), ('shone', 1), ('and', 1)]\n"
          ]
        }
      ]
    },
    {
      "cell_type": "markdown",
      "metadata": {
        "id": "K8EPbG3Dl5DH"
      },
      "source": [
        "构建词表"
      ]
    },
    {
      "cell_type": "code",
      "execution_count": 7,
      "metadata": {
        "origin_pos": 11,
        "tab": [
          "pytorch"
        ],
        "colab": {
          "base_uri": "https://localhost:8080/"
        },
        "id": "dQJl_Ghzl5DI",
        "outputId": "1aa4d051-07da-4c3c-80b5-586f24b13949"
      },
      "outputs": [
        {
          "output_type": "stream",
          "name": "stdout",
          "text": [
            "[('<unk>', 0), ('the', 1), ('i', 2), ('and', 3), ('of', 4), ('a', 5), ('to', 6), ('was', 7), ('in', 8), ('that', 9)]\n"
          ]
        }
      ],
      "source": [
        "vocab = Vocab(tokens)\n",
        "print(list(vocab.token_to_idx.items())[:10])"
      ]
    },
    {
      "cell_type": "markdown",
      "metadata": {
        "id": "1JQUlYpvl5DI"
      },
      "source": [
        "将每一条文本行转换成一个数字索引列表"
      ]
    },
    {
      "cell_type": "code",
      "execution_count": 8,
      "metadata": {
        "origin_pos": 13,
        "tab": [
          "pytorch"
        ],
        "colab": {
          "base_uri": "https://localhost:8080/"
        },
        "id": "35KhaYM7l5DI",
        "outputId": "d19dbc8d-9781-4b36-89a9-bc3ac205e072"
      },
      "outputs": [
        {
          "output_type": "stream",
          "name": "stdout",
          "text": [
            "0\n",
            "文本: ['the', 'time', 'machine', 'by', 'h', 'g', 'wells']\n",
            "索引: [1, 19, 50, 40, 2183, 2184, 400]\n",
            "10\n",
            "文本: ['twinkled', 'and', 'his', 'usually', 'pale', 'face', 'was', 'flushed', 'and', 'animated', 'the']\n",
            "索引: [2186, 3, 25, 1044, 362, 113, 7, 1421, 3, 1045, 1]\n"
          ]
        }
      ],
      "source": [
        "for i in [0, 10]:\n",
        "  print(i)\n",
        "  print('文本:', tokens[i])\n",
        "  print('索引:', vocab[tokens[i]])"
      ]
    },
    {
      "cell_type": "markdown",
      "metadata": {
        "id": "EsDOq0wDl5DJ"
      },
      "source": [
        "将所有功能打包到`load_corpus_time_machine`函数中"
      ]
    },
    {
      "cell_type": "code",
      "execution_count": 12,
      "metadata": {
        "origin_pos": 15,
        "tab": [
          "pytorch"
        ],
        "colab": {
          "base_uri": "https://localhost:8080/"
        },
        "id": "JDMHc3Bml5DJ",
        "outputId": "42edb771-15d7-4175-de5f-542f0652d07d"
      },
      "outputs": [
        {
          "output_type": "execute_result",
          "data": {
            "text/plain": [
              "(170580, 28)"
            ]
          },
          "metadata": {},
          "execution_count": 12
        }
      ],
      "source": [
        "def load_corpus_time_machine(max_tokens=-1):  \n",
        "  \"\"\"返回时光机器数据集的词元索引列表和词表\"\"\"\n",
        "  lines = read_time_machine()\n",
        "  tokens = tokenize(lines, 'char')\n",
        "  vocab = Vocab(tokens)\n",
        "  corpus = [vocab[token] for line in tokens for token in line]\n",
        "  if max_tokens > 0:\n",
        "      corpus = corpus[:max_tokens]\n",
        "  return corpus, vocab\n",
        "\n",
        "# 26个字母，加<UNK>，加空格\n",
        "corpus, vocab = load_corpus_time_machine()\n",
        "len(corpus), len(vocab)"
      ]
    }
  ],
  "metadata": {
    "celltoolbar": "Slideshow",
    "kernelspec": {
      "display_name": "Python 3.10.4 ('d2l-zh-gpu')",
      "language": "python",
      "name": "python3"
    },
    "language_info": {
      "name": "python",
      "version": "3.10.4"
    },
    "rise": {
      "autolaunch": true,
      "enable_chalkboard": true,
      "overlay": "<div class='my-top-right'><img height=80px src='http://d2l.ai/_static/logo-with-text.png'/></div><div class='my-top-left'></div>",
      "scroll": true
    },
    "vscode": {
      "interpreter": {
        "hash": "9024528b992eab3af3b77a96486d3c1a971636707c814e42c2415063068e2c7c"
      }
    },
    "colab": {
      "provenance": [],
      "collapsed_sections": [],
      "include_colab_link": true
    },
    "accelerator": "GPU"
  },
  "nbformat": 4,
  "nbformat_minor": 0
}